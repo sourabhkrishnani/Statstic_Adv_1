{
 "cells": [
  {
   "cell_type": "markdown",
   "id": "69efd6ed-d453-47a4-9242-64aca1b51500",
   "metadata": {},
   "source": [
    "### Q1"
   ]
  },
  {
   "cell_type": "markdown",
   "id": "0db1760a-0ab5-4ee9-96a2-5efe0f3d2c91",
   "metadata": {},
   "source": [
    "The Probability Density Function (PDF) is a fundamental concept in probability theory and statistics, used to describe the likelihood of a continuous random variable taking on a specific value within a given range. It is particularly relevant for continuous random variables, where the probability of any exact value is zero, but the probability of the variable falling within a range of values can be described by the PDF."
   ]
  },
  {
   "cell_type": "markdown",
   "id": "b4d72305-83d5-4e71-ad66-d8ccaf28aa46",
   "metadata": {},
   "source": [
    "Key Characteristics of a PDF:\n",
    "\n",
    "1.Definition: The PDF, denoted as f(x), for a continuous random variableX, is a function such that:\n",
    "     \n",
    "     P(a<=x<=b)=∫f(x)dx\n",
    "This means that the probability of the random variable X falling between values a and b is the area under the curve of the PDF from 𝑎 to 𝑏\n",
    "\n",
    "2.Non-Negativity:\n",
    "      \n",
    "      f(x)>=0 for all x\n",
    "This ensures that probabilities are never negative\n",
    "\n",
    "3.Total Area Under the Curve: The total area under the PDF curve must equal 1, representing the fact that the total probability of all possible outcomes is 1:\n",
    "      \n",
    "        ∫f(x)dx=1\n",
    "        \n",
    "4.Relationship to Cumulative Distribution Function (CDF): The CDF, denoted as F(x), represents the probability that \n",
    "X is less than or equal to a certain value x. It is the integral of the PDF:\n",
    "        \n",
    "          F(x)=P(X≤x)=∫f(t)dt\n"
   ]
  },
  {
   "cell_type": "markdown",
   "id": "9bf12166-dc15-42f8-bac0-09dd730df5b2",
   "metadata": {},
   "source": [
    "### Q2"
   ]
  },
  {
   "cell_type": "markdown",
   "id": "0e7491ac-1dbc-4c46-971a-6456a5f02a8c",
   "metadata": {},
   "source": [
    "Probability distributions describe how the values of a random variable are distributed. There are two main categories: discrete and continuous distributions, based on whether the random variable takes on distinct values or any value within a range. Below are the major types of probability distributions within these categories"
   ]
  },
  {
   "cell_type": "markdown",
   "id": "a99971bd-ef92-4e53-9a7b-be93c8b8cf8c",
   "metadata": {},
   "source": [
    "1. Discrete Probability Distributions\n",
    "These distributions are used when the random variable takes on a countable number of distinct values.\n",
    "\n",
    "a. Binomial Distribution\n",
    "Use Case: Models the number of successes in a fixed number of independent Bernoulli trials (yes/no outcomes) with a constant probability of success.\n",
    "Example: Tossing a coin 10 times and counting how many heads appear.\n",
    "Probability Mass Function (PMF):\n",
    "\n",
    "        𝑃(𝑋=𝑘)=(𝑛𝑘)𝑝^𝑘(1−𝑝^𝑛−𝑘)\n",
    "Where n is the number of trials, k is the number of successes, and p is the probability of success.\n",
    "\n",
    "b. Poisson Distribution\n",
    "Use Case: Models the number of times an event occurs in a fixed interval of time or space, given that the events occur with a known constant rate and independently.\n",
    "Example: Number of emails received per hour.\n",
    "\n",
    "c. Geometric Distribution\n",
    "Use Case: Models the number of trials until the first success in a series of independent Bernoulli trials.\n",
    "Example: Number of times you roll a die until you get a six.\n",
    "\n",
    "d. Hypergeometric Distribution\n",
    "Use Case: Models the probability of a specific number of successes in draws without replacement from a finite population.\n",
    "Example: Drawing a certain number of red cards from a deck without replacement.\n"
   ]
  },
  {
   "cell_type": "markdown",
   "id": "e07915a0-4f51-4eab-bc10-f3317941f9c8",
   "metadata": {},
   "source": [
    "2. Continuous Probability Distributions\n",
    "These distributions are used when the random variable can take any value within a given range.\n",
    "\n",
    "a. Normal (Gaussian) Distribution\n",
    "Use Case: Models many natural phenomena where values are symmetrically distributed around a mean.\n",
    "Example: Heights of people, exam scores.\n",
    "\n",
    "b. Uniform Distribution\n",
    "\n",
    "Use Case: Models a situation where all outcomes are equally likely within a specific range.\n",
    "\n",
    "Example: Rolling a fair die or selecting a random number between 0 and 1.\n",
    "\n",
    "c. Exponential Distribution\n",
    "\n",
    "Use Case: Models the time between events in a Poisson process (events happening independently and at a constant rate).\n",
    "\n",
    "Example: Time until the next earthquake or customer arrives.\n",
    "\n",
    "d. Beta Distribution\n",
    "\n",
    "Use Case: Used to model probabilities and proportions.\n",
    "\n",
    "Example: Distribution of the probability of success in a Bernoulli trial.\n",
    "\n",
    "e. Gamma Distribution\n",
    "\n",
    "Use Case: Models the time until an event occurs k times in a Poisson process.\n",
    "\n",
    "Example: Time until the 3rd call in a call center.\n"
   ]
  },
  {
   "cell_type": "markdown",
   "id": "ed5f8c16-d7e1-4ff8-8c9a-92d56a97ef6a",
   "metadata": {},
   "source": [
    "### Q3"
   ]
  },
  {
   "cell_type": "code",
   "execution_count": 1,
   "id": "04e2664f-6f53-4cb0-9474-c7f7c044a5a2",
   "metadata": {},
   "outputs": [
    {
     "name": "stdout",
     "output_type": "stream",
     "text": [
      "The PDF value at x=1.0 for a normal distribution with mean=0.0 and std_dev=1.0 is: 0.24197072451914337\n"
     ]
    }
   ],
   "source": [
    "import math\n",
    "\n",
    "def normal_pdf(x, mean, std_dev):\n",
    "    # Calculate the PDF using the formula\n",
    "    exponent = math.exp(-((x - mean) ** 2) / (2 * std_dev ** 2))\n",
    "    coefficient = 1 / (std_dev * math.sqrt(2 * math.pi))\n",
    "    return coefficient * exponent\n",
    "\n",
    "# Example usage:\n",
    "x = 1.0\n",
    "mean = 0.0\n",
    "std_dev = 1.0\n",
    "pdf_value = normal_pdf(x, mean, std_dev)\n",
    "print(f\"The PDF value at x={x} for a normal distribution with mean={mean} and std_dev={std_dev} is: {pdf_value}\")\n"
   ]
  },
  {
   "cell_type": "markdown",
   "id": "565ed5bb-16c2-4286-8184-2d4714e09d99",
   "metadata": {},
   "source": [
    "### Q4"
   ]
  },
  {
   "cell_type": "markdown",
   "id": "84bfd711-5ab6-4d24-9dff-7c00067d9d38",
   "metadata": {},
   "source": [
    "Properties of the Binomial Distribution\n",
    "\n",
    "The Binomial distribution describes the number of successes in a fixed number of independent trials of a binary (yes/no) experiment, where each trial has the same probability of success. Key properties include:\n",
    "\n",
    "1.Fixed Number of Trials (n):\n",
    "\n",
    "The number of trials (denoted n) is predetermined and does not change.\n",
    "\n",
    "Example: Tossing a coin 10 times.\n",
    "\n",
    "2.Two Possible Outcomes:\n",
    "\n",
    "Each trial results in one of two outcomes, often referred to as \"success\" or \"failure.\"\n",
    "\n",
    "Example: A coin toss can result in either heads (success) or tails (failure).\n",
    "\n",
    "3.Constant Probability of Success (p):\n",
    "\n",
    "The probability of success (denoted p) is the same for each trial.\n",
    "\n",
    "Example: The probability of getting heads in a fair coin toss is 0.5 for each trial.\n",
    "\n",
    "4Independence of Trials:\n",
    "\n",
    "Each trial is independent of others, meaning the outcome of one trial does not affect the outcome of any other trial.\n",
    "\n",
    "Example: The result of one coin toss doesn't affect the result of the next toss.\n",
    "\n",
    "5.Binomial Random Variable:\n",
    "\n",
    "The random variable X represents the number of successes in 𝑛 trials and follows a binomial distribution.\n",
    "\n",
    "The probability of getting exactly k successes is given by the binomial probability mass function (PMF):\n",
    "\n",
    "P(X=k)=( n/k )p^k(1−p)^n−k\n",
    "\n",
    "6.Mean and Variance:\n",
    "\n",
    "The mean (expected value) of a binomial distribution is 𝜇=𝑛𝑝\n",
    "\n",
    "The variance is σ^2=np(1−p).\n"
   ]
  },
  {
   "cell_type": "markdown",
   "id": "b88fd939-ba15-4740-9792-31bfa1cc860d",
   "metadata": {},
   "source": [
    "Examples of Events Where the Binomial Distribution Can Be Applied\n",
    "\n",
    "1.Tossing a Coin:\n",
    "\n",
    "Event: Suppose you toss a fair coin 10 times and are interested in the number of heads.Here, the number of trials n=10, the probability of success (getting heads)\n",
    "p=0.5, and you are counting how many heads (successes) you get out of 10 trials.\n",
    "\n",
    "2.Quality Control in Manufacturing:\n",
    "\n",
    "Event: In a factory, a machine produces light bulbs, and each bulb has a 5% chance of being defective. You randomly select 20 bulbs and count how many are defective.\n",
    "In this case, the number of trials n=20, the probability of success (a defective bulb) p=0.05, and you are counting how many bulbs are defective in your sample of 20."
   ]
  },
  {
   "cell_type": "markdown",
   "id": "8a7eb970-13bb-4682-a9d3-1dcec14a37a0",
   "metadata": {},
   "source": [
    "### Q5"
   ]
  },
  {
   "cell_type": "code",
   "execution_count": 2,
   "id": "95c0b270-22eb-4ade-89df-bc78c4a80751",
   "metadata": {},
   "outputs": [
    {
     "data": {
      "image/png": "[encoded data removed]",
      "text/plain": [
       "<Figure size 640x480 with 1 Axes>"
      ]
     },
     "metadata": {},
     "output_type": "display_data"
    }
   ],
   "source": [
    "import numpy as np\n",
    "import matplotlib.pyplot as plt\n",
    "\n",
    "# Parameters for the binomial distribution\n",
    "n = 10  # Number of trials\n",
    "p = 0.4  # Probability of success\n",
    "sample_size = 1000  # Sample size\n",
    "\n",
    "# Generate random sample from a binomial distribution\n",
    "binomial_sample = np.random.binomial(n, p, sample_size)\n",
    "\n",
    "# Plot histogram of the binomial sample\n",
    "plt.hist(binomial_sample, bins=10, edgecolor='black', alpha=0.7)\n",
    "plt.title('Histogram of Binomial Distribution (n=10, p=0.4)')\n",
    "plt.xlabel('Number of Successes')\n",
    "plt.ylabel('Frequency')\n",
    "plt.grid(True)\n",
    "plt.show()\n"
   ]
  },
  {
   "cell_type": "markdown",
   "id": "734046af-0b72-4895-ac5b-a6a3cb070918",
   "metadata": {},
   "source": [
    "### Q6"
   ]
  },
  {
   "cell_type": "code",
   "execution_count": 3,
   "id": "358c80ec-016b-45f4-bc3c-112c01016b09",
   "metadata": {},
   "outputs": [
    {
     "name": "stdout",
     "output_type": "stream",
     "text": [
      "The CDF value at k=5 for a Poisson distribution with mean=3.0 is: 0.9161\n"
     ]
    }
   ],
   "source": [
    "import math\n",
    "\n",
    "def poisson_cdf(k, mean):\n",
    "    # Calculate the cumulative probability from 0 to k\n",
    "    cdf = 0\n",
    "    for i in range(k + 1):\n",
    "        cdf += (mean ** i) * math.exp(-mean) / math.factorial(i)\n",
    "    return cdf\n",
    "\n",
    "# Example usage\n",
    "mean = 3.0  # Mean (λ) of the Poisson distribution\n",
    "k = 5  # Point at which to calculate the CDF\n",
    "\n",
    "cdf_value = poisson_cdf(k, mean)\n",
    "print(f\"The CDF value at k={k} for a Poisson distribution with mean={mean} is: {cdf_value:.4f}\")\n"
   ]
  },
  {
   "cell_type": "markdown",
   "id": "1eb56b7b-20f0-4e3c-8e38-75f331701d21",
   "metadata": {},
   "source": [
    "### Q7"
   ]
  },
  {
   "cell_type": "markdown",
   "id": "fb51758d-c297-4e30-a34b-5c5ac70349e9",
   "metadata": {},
   "source": [
    "The Binomial distribution and the Poisson distribution are both discrete probability distributions, but they differ in terms of their underlying assumptions and usage. Here are the key differences:\n",
    "\n",
    "1. Nature of the Experiment\n",
    "\n",
    "Binomial Distribution:\n",
    "\n",
    "Describes the number of successes in a fixed number of independent trials (with two possible outcomes: success or failure) where the probability of success is constant.\n",
    "\n",
    "Example: The number of heads in 10 tosses of a fair coin.\n",
    "\n",
    "Poisson Distribution:\n",
    "\n",
    "Describes the number of events occurring in a fixed interval of time or space, assuming events occur independently and at a constant average rate.\n",
    "\n",
    "Example: The number of cars passing through a toll booth in an hour.\n",
    "\n",
    "2. Number of Trials\n",
    "\n",
    "Binomial Distribution:\n",
    "\n",
    "The number of trials n is fixed and finite.\n",
    "\n",
    "Example: Flipping a coin 20 times.\n",
    "\n",
    "Poisson Distribution:\n",
    "\n",
    "The number of events is not fixed but can be any non-negative integer. It's often used when the number of trials is very large or undefined.\n",
    "\n",
    "Example: The number of phone calls received by a call center in a day.\n",
    "\n",
    "3. Probability of Success (p)\n",
    "\n",
    "Binomial Distribution:\n",
    "\n",
    "The probability of success p is constant for each trial.\n",
    "\n",
    "Example: The probability of rolling a 6 on a die is always 1/6.\n",
    "\n",
    "Poisson Distribution:\n",
    "\n",
    "The probability of an event occurring is proportional to the size of the interval (time, space) and is determined by the average rate λ.\n",
    "\n",
    "Example: The average number of accidents on a highway is 3 per day."
   ]
  },
  {
   "cell_type": "markdown",
   "id": "4cfce93b-b642-48be-a3bc-daf9e0c3adc0",
   "metadata": {},
   "source": [
    "### Q8"
   ]
  },
  {
   "cell_type": "code",
   "execution_count": 4,
   "id": "76ad3107-68e8-4972-976d-254e1815de7a",
   "metadata": {},
   "outputs": [
    {
     "name": "stdout",
     "output_type": "stream",
     "text": [
      "Sample Mean: 4.946\n",
      "Sample Variance: 4.721083999999999\n"
     ]
    }
   ],
   "source": [
    "# Parameters for the Poisson distribution\n",
    "mean = 5  # Mean (λ) of the Poisson distribution\n",
    "sample_size = 1000  # Sample size\n",
    "\n",
    "# Generate random sample from a Poisson distribution\n",
    "poisson_sample = np.random.poisson(mean, sample_size)\n",
    "\n",
    "# Calculate the sample mean and variance\n",
    "sample_mean = np.mean(poisson_sample)\n",
    "sample_variance = np.var(poisson_sample)\n",
    "\n",
    "print(f\"Sample Mean: {sample_mean}\")\n",
    "print(f\"Sample Variance: {sample_variance}\")\n"
   ]
  },
  {
   "cell_type": "markdown",
   "id": "bf892a99-af3f-4cff-b4de-79ce4240ce26",
   "metadata": {},
   "source": [
    "### Q9"
   ]
  },
  {
   "cell_type": "markdown",
   "id": "5a11b63a-54e8-4c4b-bd37-321b2c73706e",
   "metadata": {},
   "source": [
    "In both the Binomial distribution and the Poisson distribution, the mean and variance are closely related but in different ways depending on the distribution.\n",
    "\n",
    "1. Binomial Distribution:\n",
    "The mean and variance of a binomial distribution depend on two parameters:\n",
    "n: The number of trials\n",
    "\n",
    "p: The probability of success in each trial\n",
    "\n",
    "Relationship:\n",
    "\n",
    "In the binomial distribution, the variance is a function of both the number of trials n and the probability of success p. The variance is always less than or equal tothe mean, with the factor(1−p) accounting for the variability in the outcomes.\n",
    "\n",
    "When p is close to 0 or 1 (very likely or very unlikely events), the variance is small, and when p=0.5 (equal chance of success and failure), the variance is maximized.\n",
    "\n",
    "2. Poisson Distribution:\n",
    "The mean and variance of a Poisson distribution depend on a single parameter λ, which represents the average rate or number of occurrences in a given time interval or space.\n",
    "\n",
    "Relationship:\n",
    "\n",
    "In the Poisson distribution, the mean and variance are equal. This implies that for a Poisson distribution, the amount of spread or variability in the data is directly tied to the mean rate λ. If the mean number of events increases, the variance also increases proportionally."
   ]
  },
  {
   "cell_type": "markdown",
   "id": "66be0b4c-5084-45a1-8364-946608f6147f",
   "metadata": {},
   "source": [
    "### Q10"
   ]
  },
  {
   "cell_type": "markdown",
   "id": "0ea2d1cf-7488-408b-8c3f-059e44dbedcf",
   "metadata": {},
   "source": [
    "In a normal distribution, which is symmetric and bell-shaped, the least frequent data appears in the tails of the distribution, farthest from the mean.\n",
    "\n",
    "The mean is the central point of the distribution, and most of the data is concentrated near the mean.\n",
    "\n",
    "The farther away you move from the mean (in both directions, positive and negative), the less frequent the data points become.\n",
    "\n",
    "Specifically, in a normal distribution:\n",
    "\n",
    "About 68% of the data lies within one standard deviation of the mean.\n",
    "\n",
    "About 95% of the data lies within two standard deviations of the mean.\n",
    "\n",
    "About 99.7% of the data lies within three standard deviations of the mean.\n",
    "\n",
    "Therefore, the least frequent data appears beyond three standard deviations from the mean, in the extreme left and right tails of the distribution, where the probability density becomes very small."
   ]
  },
  {
   "cell_type": "code",
   "execution_count": null,
   "id": "bbc63139-c418-4e38-a1c3-bea2efda5a13",
   "metadata": {},
   "outputs": [],
   "source": []
  }
 ],
 "metadata": {
  "kernelspec": {
   "display_name": "Python 3 (ipykernel)",
   "language": "python",
   "name": "python3"
  },
  "language_info": {
   "codemirror_mode": {
    "name": "ipython",
    "version": 3
   },
   "file_extension": ".py",
   "mimetype": "text/x-python",
   "name": "python",
   "nbconvert_exporter": "python",
   "pygments_lexer": "ipython3",
   "version": "3.11.7"
  }
 },
 "nbformat": 4,
 "nbformat_minor": 5
}
